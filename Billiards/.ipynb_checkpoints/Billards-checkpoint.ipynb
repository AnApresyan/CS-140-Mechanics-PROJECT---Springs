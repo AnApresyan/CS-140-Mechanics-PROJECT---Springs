{
 "cells": [
  {
   "cell_type": "code",
   "execution_count": 1,
   "id": "92bdeb45",
   "metadata": {},
   "outputs": [],
   "source": [
    "import math\n",
    "import random\n",
    "import sys\n",
    "import numpy as np\n",
    "import matplotlib.pyplot as plt\n",
    "import time\n",
    "from matplotlib.animation import FuncAnimation"
   ]
  },
  {
   "cell_type": "code",
   "execution_count": 2,
   "id": "920ab53a",
   "metadata": {},
   "outputs": [],
   "source": [
    "def draw_circle(): #taken from https://www.geeksforgeeks.org/how-to-draw-a-circle-using-matplotlib-in-python/\n",
    "    theta = np.linspace( 0 , 2 * np.pi , 150 )\n",
    "\n",
    "    radius = 1\n",
    "\n",
    "    a = radius * np.cos( theta )\n",
    "    b = radius * np.sin( theta )\n",
    "\n",
    "    figure, axes = plt.subplots( 1 )\n",
    "\n",
    "    axes.plot( a, b )\n",
    "    axes.set_aspect( 1 )\n",
    "    plt.ion()\n",
    "#     plt.show(block = False)"
   ]
  },
  {
   "cell_type": "code",
   "execution_count": 4,
   "id": "272a6ed8",
   "metadata": {},
   "outputs": [
    {
     "name": "stdout",
     "output_type": "stream",
     "text": [
      "X0:  -0.9121020057591289\n",
      "y0:  0.09680236304902959\n",
      "[[-0.981828401115156, 0.18977089019039903], [0.2849864233418161, 0.9585315532160855], [0.9260244240013279, -0.3774635957983642], [-0.4663138183731378, -0.8846193660521335], [-0.8347142298413962, 0.5506833523018297], [0.6297615126062815, 0.7767885408915087], [0.711398892128849, -0.7027884578438295], [-0.7690624920697309, -0.639173595554932], [-0.5608066424806353, 0.8279468152939164], [0.8788757182543212, 0.477051003308417], [0.38871100975359374, -0.9213607269244894], [-0.955001830230017, -0.29663022143400275], [-0.20163417123301552, 0.979550725595251], [0.9954447694739309, 0.10398656790440797], [-0.002384452891546762, -1.0084884742968043], [-1.071751753564103, 0.19514653971967255], [1.954065972226267, 1.7865420349294492], [-9253.241302123713, -14320.889131470989], [3.413101878602349e+41, 5.282784268981481e+41], [-inf, -inf]]\n"
     ]
    }
   ],
   "source": [
    "#Problem 1\n",
    "# def f(t, px, py, x0, y0):\n",
    "#     return (px**2 + py**2)*t**2 + (2*xo*px + 2*y0*py)*t + xo**2 + y0**2 -1\n",
    "\n",
    "def find_quadratic_roots(a, b, c):\n",
    "    d = b**2 - 4 * a * c\n",
    "    if d < 0:\n",
    "        sys.exit(\"Quadratic problem doesn't have solution most likely because of overflow, run again\")\n",
    "#     print(\"d: \", d)\n",
    "    t1 = (-b + math.sqrt(d))/2*a\n",
    "    t2 = (-b - math.sqrt(d))/2*a\n",
    "    if t1 > 0:\n",
    "        return t1\n",
    "    return t2\n",
    "\n",
    "def find_coords(px0, py0, n):\n",
    "#     draw_circle()\n",
    "#     plt.ion()\n",
    "    x0 = random.uniform(-1, 1)\n",
    "    y0 = random.uniform(0, math.sqrt(1-x0**2))\n",
    "#     plt.scatter(x0, y0, color='red')\n",
    "#     plt.draw()\n",
    "    \n",
    "#     plt.pause(0.1)\n",
    "    points = [[0 for x in range(0, 2)] for y in range(0, n)] \n",
    "    print(\"X0: \", x0)\n",
    "    print(\"y0: \", y0)\n",
    "    for i in range(0, n):\n",
    "        t = find_quadratic_roots(px0**2+py0**2, 2*x0*px0 + 2*y0*py0, x0**2 + y0**2 -1)\n",
    "        x = x0 + px0 * t\n",
    "        y = y0 + py0 * t\n",
    "        points[i] = [x, y]\n",
    "        px = (y**2 - x**2)*px0 - 2*x*y*py0\n",
    "        py = -2*x*y*px0 + (x**2-y**2)*py0\n",
    "        x0 = x\n",
    "        y0 = y\n",
    "        px0 = px\n",
    "        py0 = py\n",
    "#         print(\"On circle?: \", x0**2 + y0**2)\n",
    "    print(points)\n",
    "    \n",
    "#     for i in range(0, n):\n",
    "#         plt.scatter(points[i][0], points[i][1], color='red')\n",
    "#         plt.draw()\n",
    "#         time.sleep(0.01)\n",
    "#         plt.pause(0.05)\n",
    "#         time.sleep(1)\n",
    "#     plt.ioff()\n",
    "#     plt.show()   \n",
    "find_coords(-0.6, 0.8, 20)\n",
    "# OVERFLOW OCCURSSSSSSS :(((((("
   ]
  },
  {
   "cell_type": "code",
   "execution_count": 45,
   "id": "dfae3f5d",
   "metadata": {},
   "outputs": [
    {
     "name": "stdout",
     "output_type": "stream",
     "text": [
      "x0 0.7486500207399609\n",
      "y0 0.5789751821055521\n",
      "px -0.6\n",
      "py 0.8\n",
      "Maxp -0.535888671875\n",
      "Maxy -2.8301109156636528e-05\n"
     ]
    }
   ],
   "source": [
    "#Problem 2\n",
    "def bisection(a, b, func, px, py, x0, y0):\n",
    "    eps = 0.0001\n",
    "    if a > b:\n",
    "        print(\"Wrong interval\")\n",
    "    if f(a, px, py, x0, y0) * f(b, px, py, x0, y0) < 0:\n",
    "        x = (a + b)/2\n",
    "        while (abs(f(x, px, py, x0, y0))) >= eps:\n",
    "            if (f(a, px, py, x0, y0) * f(x, px, py, x0, y0)) < 0:\n",
    "                b = x\n",
    "            elif (f(x, px, py, x0, y0) * f(b, px, py, x0, y0) < 0):\n",
    "                a = x\n",
    "            x = (a + b)/2\n",
    "        return(x)\n",
    "    sys.exit(\"Wrong interval, please run again.\")\n",
    "\n",
    "def f(x, px, py, x0, y0):\n",
    "    return (y0+py*(x-x0)/px-((x-x0)**2)/(2*px**2))\n",
    "\n",
    "def dx(x, px, py, x0, y0):\n",
    "    return -2*py*(x-x0)*(y0+py*(x-x0)/px-((x-x0)**2)/(2*px**2))/px**3+2*x\n",
    "\n",
    "def find_coords2(px0, py0, n):\n",
    "    x0 = random.uniform(-1, 1)\n",
    "    y0 = random.uniform(0, math.sqrt(1-x0**2))\n",
    "    points = [[0 for x in range(0, 2)] for y in range(0, n)]\n",
    "    for i in range(0, n)\n",
    "        maxx = bisection(-1, 1, dx, px0,py0, x0, y0)\n",
    "        print(\"x0\", x0)\n",
    "        print(\"y0\", y0)\n",
    "        print(\"px\", px0)\n",
    "        print(\"py\", py0)\n",
    "        print(\"Maxx\", maxx)\n",
    "        maxy = f(maxx, px0,py0, x0, y0)\n",
    "        print(\"Maxy\", maxy)\n",
    "        if px0 < 0:\n",
    "            if maxy**2 + maxx**2 > 1:\n",
    "                x = bisection(maxx, x0, f, px0, py0, x0, y0)\n",
    "            else:\n",
    "                x = bisection(-1, x0, f, px0, py0, x0, y0)\n",
    "        else:\n",
    "            if maxy**2 + maxx**2 > 1:\n",
    "                x = bisection(x0, maxx, f, px0, py0, x0, y0)\n",
    "            else:\n",
    "                x = bisection(x0, 1, f, px0, py0, x0, y0)\n",
    "        y = f(x, px0, py0, x0, y0)\n",
    "        points[i] = [x, y]\n",
    "        px = (y**2 - x**2)*px0 - 2*x*y*py0\n",
    "        py = -2*x*y*px0 + (x**2-y**2)*py0\n",
    "        x0 = x\n",
    "        y0 = y\n",
    "        px0 = px\n",
    "        py0 = py\n",
    "find_coords2(-0.6, 0.8, 10)"
   ]
  },
  {
   "cell_type": "code",
   "execution_count": null,
   "id": "e6ecb89a",
   "metadata": {},
   "outputs": [],
   "source": []
  },
  {
   "cell_type": "code",
   "execution_count": null,
   "id": "a0ce74b6",
   "metadata": {},
   "outputs": [],
   "source": []
  }
 ],
 "metadata": {
  "kernelspec": {
   "display_name": "Python 3 (ipykernel)",
   "language": "python",
   "name": "python3"
  },
  "language_info": {
   "codemirror_mode": {
    "name": "ipython",
    "version": 3
   },
   "file_extension": ".py",
   "mimetype": "text/x-python",
   "name": "python",
   "nbconvert_exporter": "python",
   "pygments_lexer": "ipython3",
   "version": "3.10.9"
  }
 },
 "nbformat": 4,
 "nbformat_minor": 5
}
